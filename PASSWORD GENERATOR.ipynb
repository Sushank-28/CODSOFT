{
  "nbformat": 4,
  "nbformat_minor": 0,
  "metadata": {
    "colab": {
      "provenance": [],
      "authorship_tag": "ABX9TyOWF8aXvVx2uY9jGgm4Znxi",
      "include_colab_link": true
    },
    "kernelspec": {
      "name": "python3",
      "display_name": "Python 3"
    },
    "language_info": {
      "name": "python"
    }
  },
  "cells": [
    {
      "cell_type": "markdown",
      "metadata": {
        "id": "view-in-github",
        "colab_type": "text"
      },
      "source": [
        "<a href=\"https://colab.research.google.com/github/Sushank-28/CODSOFT/blob/main/PASSWORD%20GENERATOR.ipynb\" target=\"_parent\"><img src=\"https://colab.research.google.com/assets/colab-badge.svg\" alt=\"Open In Colab\"/></a>"
      ]
    },
    {
      "cell_type": "code",
      "source": [
        "#COMMAND LINE APPLICATION TO GENERATE RANDOM PASSWORD\n",
        "\n",
        "#Author : SUSHANK VAKATI\n",
        "#for    : Intenship (TASK-3)\n",
        "\n",
        "# Discription :\n",
        "# this command appplication generates random password\n",
        "# user has to give length of the password as input\n",
        "\n",
        "# importing random AND string modules\n",
        "import random\n",
        "import string\n",
        "\n",
        "\n",
        "def main():\n",
        "    print(\"\\n\\n\\t\\t\\tby @SUSHANK VAKATI\")\n",
        "    print(\"________________________________________\")\n",
        "    print(\"\\n\\t\\t\\t*RANDOM PASSWORD GENERATOR APP*\\n\")\n",
        "    # taking usename from the user\n",
        "    username = input(\"\\tEnter the user name : \")\n",
        "    # taking the length of desired password\n",
        "    length = input(\"\\n\\tEnter the length of the password : \")\n",
        "    while True:\n",
        "        # empty password\n",
        "        password = \"\"\n",
        "        if length.isdigit():\n",
        "            if length == \"0\":\n",
        "                print(\"\\n\\t\\tInvalid size\\n\")\n",
        "                exit()\n",
        "            else:\n",
        "                gen(length,password)\n",
        "                break\n",
        "        else:\n",
        "            print(\"\\n\\t\\tInvalid size\\n\")\n",
        "            exit()\n",
        "\n",
        "\n",
        "    while True:\n",
        "        choice = rep()\n",
        "        match choice:\n",
        "            case \"1\" :\n",
        "                print(\"\\n\\t\\tTHANKS FOR USING....\\n\")\n",
        "                exit()\n",
        "            case \"2\" :\n",
        "                gen(length,password)\n",
        "            case \"3\" :\n",
        "                print(\"\\n\\t\\tTHANKS FOR USING....\\n\")\n",
        "                exit()\n",
        "            case _ :\n",
        "                print(\"\\n\\tInvalid choice\\n\")\n",
        "                break\n",
        "\n",
        "    print(\"\\n\\t\\tTHANKS FOR USING....\\n\")\n",
        "\n",
        "\n",
        "# function for generating the password of given length\n",
        "def gen(length,password):\n",
        "    all_chars = string.ascii_letters + string.digits + string.punctuation\n",
        "    for i in range(int(length)):\n",
        "        password+=random.choice(all_chars)\n",
        "    print(\"\\n\\tGenerated password : \" ,password+\"\\n\")\n",
        "\n",
        "\n",
        "# asks user for regenerating/accepting/exiting from the app\n",
        "def rep():\n",
        "    print(\"\"\"\\t1.ACCEPT\\n\\t2.REGENERATE\\n\\t3.EXIT\"\"\")\n",
        "    return input(\"\\n\\tEnter your choice : \")\n",
        "\n",
        "# main function\n",
        "main()"
      ],
      "metadata": {
        "colab": {
          "base_uri": "https://localhost:8080/"
        },
        "id": "MVtFWR-xCHFI",
        "outputId": "6b98b3a9-e0f9-4a49-9dc1-6a9cf5beaab1"
      },
      "execution_count": 2,
      "outputs": [
        {
          "output_type": "stream",
          "name": "stdout",
          "text": [
            "\n",
            "\n",
            "\t\t\tby @SUSHANK VAKATI\n",
            "________________________________________\n",
            "\n",
            "\t\t\t*RANDOM PASSWORD GENERATOR APP*\n",
            "\n",
            "\tEnter the user name : SUSHANK\n",
            "\n",
            "\tEnter the length of the password : 6\n",
            "\n",
            "\tGenerated password :  \"Sx_Un\n",
            "\n",
            "\t1.ACCEPT\n",
            "\t2.REGENERATE\n",
            "\t3.EXIT\n",
            "\n",
            "\tEnter your choice : 1\n",
            "\n",
            "\t\tTHANKS FOR USING....\n",
            "\n",
            "\t1.ACCEPT\n",
            "\t2.REGENERATE\n",
            "\t3.EXIT\n",
            "\n",
            "\tEnter your choice : 2\n",
            "\n",
            "\tGenerated password :  szZ\\aS\n",
            "\n",
            "\t1.ACCEPT\n",
            "\t2.REGENERATE\n",
            "\t3.EXIT\n",
            "\n",
            "\tEnter your choice : 3\n",
            "\n",
            "\t\tTHANKS FOR USING....\n",
            "\n",
            "\t1.ACCEPT\n",
            "\t2.REGENERATE\n",
            "\t3.EXIT\n",
            "\n",
            "\tEnter your choice : _\n",
            "\n",
            "\tInvalid choice\n",
            "\n",
            "\n",
            "\t\tTHANKS FOR USING....\n",
            "\n"
          ]
        }
      ]
    }
  ]
}